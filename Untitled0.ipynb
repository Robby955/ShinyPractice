{
  "nbformat": 4,
  "nbformat_minor": 0,
  "metadata": {
    "colab": {
      "name": "Untitled0.ipynb",
      "provenance": [],
      "collapsed_sections": [],
      "authorship_tag": "ABX9TyOdnauRLGq75KP7+Q0Rqq+v",
      "include_colab_link": true
    },
    "kernelspec": {
      "name": "python3",
      "display_name": "Python 3"
    },
    "accelerator": "GPU"
  },
  "cells": [
    {
      "cell_type": "markdown",
      "metadata": {
        "id": "view-in-github",
        "colab_type": "text"
      },
      "source": [
        "<a href=\"https://colab.research.google.com/github/Robby955/ShinyPractice/blob/master/Untitled0.ipynb\" target=\"_parent\"><img src=\"https://colab.research.google.com/assets/colab-badge.svg\" alt=\"Open In Colab\"/></a>"
      ]
    },
    {
      "cell_type": "code",
      "metadata": {
        "colab": {
          "base_uri": "https://localhost:8080/"
        },
        "id": "82fajxWSFZs-",
        "outputId": "13ccc036-5e66-4720-eb34-b8ca547227a4"
      },
      "source": [
        "import tensorflow as tf\r\n",
        "import keras\r\n",
        "import numpy as np\r\n",
        "import os\r\n",
        "\r\n",
        "\r\n",
        "shakespeare_url = \"https://raw.githubusercontent.com/karpathy/char-rnn/master/data/tinyshakespeare/input.txt\"\r\n",
        "filepath = keras.utils.get_file(\"shakespeare.txt\", shakespeare_url)\r\n",
        "with open(filepath) as f:\r\n",
        "    shakespeare_text = f.read()\r\n",
        "\r\n",
        "print(shakespeare_text[:148])\r\n",
        "\r\n",
        "\"\".join(sorted(set(shakespeare_text.lower())))\r\n",
        "\r\n",
        "\r\n",
        "\r\n",
        "\r\n",
        "\r\n",
        "\r\n",
        "\r\n",
        "\r\n",
        "\r\n",
        "\r\n",
        "\r\n",
        "\r\n",
        "tokenizer = keras.preprocessing.text.Tokenizer(char_level=True)\r\n",
        "tokenizer.fit_on_texts(shakespeare_text)\r\n",
        "\r\n",
        "max_id = len(tokenizer.word_index) # number of distinct characters\r\n",
        "dataset_size = tokenizer.document_count # total number of characters\r\n",
        "\r\n",
        "[encoded] = np.array(tokenizer.texts_to_sequences([shakespeare_text])) - 1\r\n",
        "train_size = dataset_size * 90 // 100\r\n",
        "dataset = tf.data.Dataset.from_tensor_slices(encoded[:train_size])\r\n",
        "\r\n",
        "n_steps = 100\r\n",
        "window_length = n_steps + 1 # target = input shifted 1 character ahead\r\n",
        "dataset = dataset.repeat().window(window_length, shift=1, drop_remainder=True)\r\n",
        "\r\n",
        "dataset = dataset.flat_map(lambda window: window.batch(window_length))\r\n",
        "batch_size = 32\r\n",
        "dataset = dataset.shuffle(10000).batch(batch_size)\r\n",
        "dataset = dataset.map(lambda windows: (windows[:, :-1], windows[:, 1:]))\r\n",
        "\r\n",
        "\r\n",
        "dataset = dataset.map(\r\n",
        "    lambda X_batch, Y_batch: (tf.one_hot(X_batch, depth=max_id), Y_batch))\r\n",
        "\r\n",
        "dataset = dataset.prefetch(1)\r\n",
        "\r\n",
        "for X_batch, Y_batch in dataset.take(1):\r\n",
        "    print(X_batch.shape, Y_batch.shape)\r\n",
        "\r\n",
        "model = keras.models.Sequential([\r\n",
        "    keras.layers.GRU(128, return_sequences=True, input_shape=[None, max_id],\r\n",
        "                     #dropout=0.2, recurrent_dropout=0.2),\r\n",
        "                     dropout=0.2),\r\n",
        "    keras.layers.GRU(128, return_sequences=True,\r\n",
        "                     #dropout=0.2, recurrent_dropout=0.2),\r\n",
        "                     dropout=0.2),\r\n",
        "    keras.layers.TimeDistributed(keras.layers.Dense(max_id,\r\n",
        "                                                    activation=\"softmax\"))\r\n",
        "])\r\n",
        "model.compile(loss=\"sparse_categorical_crossentropy\", optimizer=\"adam\")\r\n",
        "history = model.fit(dataset, steps_per_epoch=train_size // batch_size,\r\n",
        "                    epochs=10)\r\n",
        "\r\n"
      ],
      "execution_count": 2,
      "outputs": [
        {
          "output_type": "stream",
          "text": [
            "First Citizen:\n",
            "Before we proceed any further, hear me speak.\n",
            "\n",
            "All:\n",
            "Speak, speak.\n",
            "\n",
            "First Citizen:\n",
            "You are all resolved rather to die than to famish?\n",
            "\n",
            "(32, 100, 39) (32, 100)\n",
            "Epoch 1/10\n",
            "31370/31370 [==============================] - 340s 11ms/step - loss: 1.7192\n",
            "Epoch 2/10\n",
            "31370/31370 [==============================] - 337s 11ms/step - loss: 1.5434\n",
            "Epoch 3/10\n",
            "31370/31370 [==============================] - 337s 11ms/step - loss: 1.5165\n",
            "Epoch 4/10\n",
            "31370/31370 [==============================] - 337s 11ms/step - loss: 1.5022\n",
            "Epoch 5/10\n",
            "31370/31370 [==============================] - 337s 11ms/step - loss: 1.4935\n",
            "Epoch 6/10\n",
            "31370/31370 [==============================] - 338s 11ms/step - loss: 1.4882\n",
            "Epoch 7/10\n",
            "31370/31370 [==============================] - 337s 11ms/step - loss: 1.4835\n",
            "Epoch 8/10\n",
            "31370/31370 [==============================] - 337s 11ms/step - loss: 1.4807\n",
            "Epoch 9/10\n",
            "31370/31370 [==============================] - 337s 11ms/step - loss: 1.4782\n",
            "Epoch 10/10\n",
            "31370/31370 [==============================] - 337s 11ms/step - loss: 1.4763\n"
          ],
          "name": "stdout"
        }
      ]
    },
    {
      "cell_type": "code",
      "metadata": {
        "colab": {
          "base_uri": "https://localhost:8080/",
          "height": 35
        },
        "id": "831OE6B4XYW-",
        "outputId": "97c554be-6a6d-4458-c8e6-8178678c8123"
      },
      "source": [
        "def preprocess(texts):\r\n",
        "    X = np.array(tokenizer.texts_to_sequences(texts)) - 1\r\n",
        "    return tf.one_hot(X, max_id)\r\n",
        "\r\n",
        "\r\n",
        "X_new = preprocess([\"How are yo\"])\r\n",
        "#Y_pred = model.predict_classes(X_new)\r\n",
        "Y_pred = np.argmax(model.predict(X_new), axis=-1)\r\n",
        "tokenizer.sequences_to_texts(Y_pred + 1)[0][-1] # 1st sentence, last char\r\n",
        "\r\n",
        "\r\n",
        "def next_char(text, temperature=1):\r\n",
        "    X_new = preprocess([text])\r\n",
        "    y_proba = model.predict(X_new)[0, -1:, :]\r\n",
        "    rescaled_logits = tf.math.log(y_proba) / temperature\r\n",
        "    char_id = tf.random.categorical(rescaled_logits, num_samples=1) + 1\r\n",
        "    return tokenizer.sequences_to_texts(char_id.numpy())[0]\r\n",
        "\r\n",
        "next_char(\"How are yo\", temperature=1)"
      ],
      "execution_count": 3,
      "outputs": [
        {
          "output_type": "execute_result",
          "data": {
            "application/vnd.google.colaboratory.intrinsic+json": {
              "type": "string"
            },
            "text/plain": [
              "'u'"
            ]
          },
          "metadata": {
            "tags": []
          },
          "execution_count": 3
        }
      ]
    },
    {
      "cell_type": "code",
      "metadata": {
        "colab": {
          "base_uri": "https://localhost:8080/"
        },
        "id": "D2pWoUeaXmws",
        "outputId": "9d84f6ba-b0b9-41de-ffdf-bd48e5134514"
      },
      "source": [
        "def complete_text(text, n_chars=50, temperature=1):\r\n",
        "    for _ in range(n_chars):\r\n",
        "        text += next_char(text, temperature)\r\n",
        "    return text\r\n",
        "\r\n",
        "print(complete_text(\"the\", temperature=0.2))\r\n",
        "\r\n",
        "#print(complete_text(\"t\", temperature=1))"
      ],
      "execution_count": 6,
      "outputs": [
        {
          "output_type": "stream",
          "text": [
            "the comportue of the belly and the strong particular \n"
          ],
          "name": "stdout"
        }
      ]
    }
  ]
}